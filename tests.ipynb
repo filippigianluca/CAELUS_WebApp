{
 "cells": [
  {
   "cell_type": "code",
   "execution_count": 24,
   "metadata": {},
   "outputs": [],
   "source": [
    "\n",
    "import json\n",
    "import sqlite3\n",
    "import pandas as pd\n",
    "import numpy as np\n",
    "import bokeh.models as bkm\n",
    "\n",
    "from bokeh.io import curdoc\n",
    "from bokeh.plotting import figure, curdoc\n",
    "from bokeh.layouts import column, row\n",
    "from bokeh.models import HoverTool, LabelSet, ColumnDataSource,  DataRange1d, Select, DateRangeSlider, Slider\n",
    "from bokeh.tile_providers import get_provider, STAMEN_TERRAIN, OSM, CARTODBPOSITRON\n",
    "from bokeh.server.server import Server\n",
    "from bokeh.application import Application\n",
    "from bokeh.application.handlers.function import FunctionHandler\n",
    "from bokeh.layouts import layout"
   ]
  },
  {
   "cell_type": "code",
   "execution_count": 35,
   "metadata": {},
   "outputs": [],
   "source": [
    "# SQLite database of DRONES\n",
    "# db_file_drones = '/Users/gianlucafilippi/GitHub/smart-o2c/MATLAB/Problems/CAELUS/AgentBasedModel/drones_sim.db'\n",
    "db_file_drones = '/home/caelus/Documents/GitHub/CAELUS_Optimisation/src/ModelsMetrics/AgentBased/Data_Bases/drones_sim.db'\n",
    "# SQLite database of STATIONS\n",
    "# db_file_stations = '/Users/gianlucafilippi/GitHub/smart-o2c/MATLAB/Problems/CAELUS/AgentBase/SQLlite/test_stationstype.db'\n",
    "# db_file_stations = '/Users/gianlucafilippi/GitHub/smart-o2c/MATLAB/Problems/CAELUS/AgentBasedModel/stations_sim.db'\n",
    "db_file_stations = '/home/caelus/Documents/GitHub/CAELUS_Optimisation/src/ModelsMetrics/AgentBased/Data_Bases/stations_sim.db'\n",
    "# image url\n",
    "# # image url\n",
    "url_image = '/Users/gianlucafilippi/GitHub/CAELUS_DT/CAELUS_Interface_Optimiser_DT/Tracker/airplane.png'\n"
   ]
  },
  {
   "cell_type": "code",
   "execution_count": 36,
   "metadata": {},
   "outputs": [],
   "source": [
    "\n",
    "\n",
    "#FUNCTION TO CONVERT GCS WGS84 TO WEB MERCATOR\n",
    "#DATAFRAME\n",
    "def wgs84_to_web_mercator(df, lon=\"lon\", lat=\"lat\"):\n",
    "    k = 6378137\n",
    "    df[\"x\"] = df[lon] * (k * np.pi/180.0)\n",
    "    df[\"y\"] = np.log(np.tan((90 + df[lat]) * np.pi/360.0)) * k\n",
    "    return df\n",
    "\n",
    "#POINT\n",
    "def wgs84_web_mercator_point(lon,lat):\n",
    "    k = 6378137\n",
    "    x= lon * (k * np.pi/180.0)\n",
    "    y= np.log(np.tan((90 + lat) * np.pi/360.0)) * k\n",
    "    return x,y\n",
    "\n",
    "#AREA EXTENT COORDINATE WGS84\n",
    "lon_min,lat_min=-8, 55 # -125.974,30.038\n",
    "lon_max,lat_max= 0, 61 # -68.748,52.214\n",
    "\n",
    "#COORDINATE CONVERSION\n",
    "xy_min=wgs84_web_mercator_point(lon_min,lat_min)\n",
    "xy_max=wgs84_web_mercator_point(lon_max,lat_max)\n",
    "\n",
    "#COORDINATE RANGE IN WEB MERCATOR\n",
    "x_range,y_range=([xy_min[0],xy_max[0]], [xy_min[1],xy_max[1]])\n",
    "\n",
    "\n",
    "\n",
    "\n",
    "conn_drones = sqlite3.connect(db_file_drones)\n",
    "conn_stations = sqlite3.connect(db_file_stations)\n"
   ]
  },
  {
   "cell_type": "code",
   "execution_count": 37,
   "metadata": {},
   "outputs": [],
   "source": [
    "#PLOT AIRCRAFT POSITION\n",
    "p=figure(x_range=x_range,y_range=y_range,\n",
    "        x_axis_type='mercator',y_axis_type='mercator',\n",
    "        sizing_mode='scale_width',plot_height=350, #width=300, #plot_height\n",
    "        tools=\"pan, box_select, zoom_in, zoom_out, box_zoom, save, reset\")"
   ]
  },
  {
   "cell_type": "code",
   "execution_count": 38,
   "metadata": {},
   "outputs": [],
   "source": [
    "station_name_db = {\n",
    "    'system':[],   \n",
    "    'textID':[], \n",
    "    'numberID':[], \n",
    "    'info':[], \n",
    "    'type':[], \n",
    "    'lon':[], \n",
    "    'lat':[], \n",
    "    'x':[], \n",
    "    'y':[], \n",
    "    'status':[], \n",
    "    'storge_capacity':[], \n",
    "    'charging_capacity':[], \n",
    "    'infrastructure_chargin':[], \n",
    "    'infrastructure_takeoff_landing':[], \n",
    "    'infrastructure_drone_storage':[]\n",
    "}\n",
    "stations_source_A=ColumnDataSource(station_name_db)\n",
    "stations_source_H=ColumnDataSource(station_name_db)\n",
    "stations_source_L=ColumnDataSource(station_name_db)\n",
    "stations_source_new=ColumnDataSource(station_name_db)"
   ]
  },
  {
   "cell_type": "code",
   "execution_count": 41,
   "metadata": {},
   "outputs": [
    {
     "data": {
      "text/plain": [
       "{'system': [],\n",
       " 'textID': [],\n",
       " 'numberID': [],\n",
       " 'info': [],\n",
       " 'type': [],\n",
       " 'lon': [],\n",
       " 'lat': [],\n",
       " 'x': [],\n",
       " 'y': [],\n",
       " 'status': [],\n",
       " 'storge_capacity': [],\n",
       " 'charging_capacity': [],\n",
       " 'infrastructure_chargin': [],\n",
       " 'infrastructure_takeoff_landing': [],\n",
       " 'infrastructure_drone_storage': []}"
      ]
     },
     "execution_count": 41,
     "metadata": {},
     "output_type": "execute_result"
    }
   ],
   "source": [
    "station_name_db"
   ]
  }
 ],
 "metadata": {
  "kernelspec": {
   "display_name": "CAELUS_WebApp-X8wN259c",
   "language": "python",
   "name": "python3"
  },
  "language_info": {
   "codemirror_mode": {
    "name": "ipython",
    "version": 3
   },
   "file_extension": ".py",
   "mimetype": "text/x-python",
   "name": "python",
   "nbconvert_exporter": "python",
   "pygments_lexer": "ipython3",
   "version": "3.8.10"
  }
 },
 "nbformat": 4,
 "nbformat_minor": 2
}
